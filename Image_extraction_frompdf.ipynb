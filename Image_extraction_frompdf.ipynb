{
  "nbformat": 4,
  "nbformat_minor": 0,
  "metadata": {
    "colab": {
      "provenance": []
    },
    "kernelspec": {
      "name": "python3",
      "display_name": "Python 3"
    },
    "language_info": {
      "name": "python"
    }
  },
  "cells": [
    {
      "cell_type": "code",
      "execution_count": null,
      "metadata": {
        "colab": {
          "base_uri": "https://localhost:8080/"
        },
        "id": "XuuhQ_uN7Qnl",
        "outputId": "12cd9c49-779d-489f-ef7a-4d1e9d288054"
      },
      "outputs": [
        {
          "output_type": "stream",
          "name": "stdout",
          "text": [
            "Collecting PyMuPDF\n",
            "  Downloading pymupdf-1.25.1-cp39-abi3-manylinux2014_x86_64.manylinux_2_17_x86_64.whl.metadata (3.4 kB)\n",
            "Requirement already satisfied: Pillow in /usr/local/lib/python3.10/dist-packages (11.0.0)\n",
            "Downloading pymupdf-1.25.1-cp39-abi3-manylinux2014_x86_64.manylinux_2_17_x86_64.whl (20.0 MB)\n",
            "\u001b[2K   \u001b[90m━━━━━━━━━━━━━━━━━━━━━━━━━━━━━━━━━━━━━━━━\u001b[0m \u001b[32m20.0/20.0 MB\u001b[0m \u001b[31m28.9 MB/s\u001b[0m eta \u001b[36m0:00:00\u001b[0m\n",
            "\u001b[?25hInstalling collected packages: PyMuPDF\n",
            "Successfully installed PyMuPDF-1.25.1\n"
          ]
        }
      ],
      "source": [
        "pip install PyMuPDF Pillow"
      ]
    },
    {
      "cell_type": "code",
      "source": [
        "import fitz\n",
        "import io\n"
      ],
      "metadata": {
        "id": "v5KPvb4U7gyt"
      },
      "execution_count": null,
      "outputs": []
    },
    {
      "cell_type": "code",
      "source": [
        "from PIL import Image"
      ],
      "metadata": {
        "id": "m5g6dIpR7gvM"
      },
      "execution_count": null,
      "outputs": []
    },
    {
      "cell_type": "code",
      "source": [
        "def extract_images_from_pdf(pdf_path):\n",
        "\n",
        "    try:\n",
        "        pdf_document = fitz.open(pdf_path)\n",
        "        images = []\n",
        "        for page_num in range(pdf_document.page_count):\n",
        "            page = pdf_document[page_num]\n",
        "            for img in page.get_images(full=True):\n",
        "                xref = img[0]\n",
        "                base_image = pdf_document.extract_image(xref)\n",
        "                image_bytes = base_image[\"image\"]\n",
        "                image = Image.open(io.BytesIO(image_bytes))\n",
        "\n",
        "                image = image.convert('RGB')\n",
        "                images.append(image)\n",
        "        return images\n",
        "    except FileNotFoundError:\n",
        "        print(f\"Error: PDF file not found at {pdf_path}\")\n",
        "        return None\n",
        "    except Exception as e:\n",
        "        print(f\"An error occurred: {e}\")\n",
        "        return None\n",
        "\n",
        "pdf_file_path ='/content/e-Attestation User Manual for Students-21-22 - English.pdf'\n",
        "extracted_images = extract_images_from_pdf(pdf_file_path)\n",
        "\n",
        "if extracted_images:\n",
        "    for i, image in enumerate(extracted_images):\n",
        "        image.save(f\"image_{i}.png\")\n",
        "        print(f\"Image {i} saved successfully.\")"
      ],
      "metadata": {
        "id": "p1o6HtAKIb-r",
        "outputId": "e4263c92-b582-47fc-8c5f-47732e93dec4",
        "colab": {
          "base_uri": "https://localhost:8080/"
        }
      },
      "execution_count": null,
      "outputs": [
        {
          "output_type": "stream",
          "name": "stdout",
          "text": [
            "Image 0 saved successfully.\n",
            "Image 1 saved successfully.\n",
            "Image 2 saved successfully.\n",
            "Image 3 saved successfully.\n",
            "Image 4 saved successfully.\n",
            "Image 5 saved successfully.\n",
            "Image 6 saved successfully.\n",
            "Image 7 saved successfully.\n",
            "Image 8 saved successfully.\n",
            "Image 9 saved successfully.\n",
            "Image 10 saved successfully.\n",
            "Image 11 saved successfully.\n",
            "Image 12 saved successfully.\n",
            "Image 13 saved successfully.\n",
            "Image 14 saved successfully.\n",
            "Image 15 saved successfully.\n"
          ]
        }
      ]
    }
  ]
}